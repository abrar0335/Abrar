{
  "nbformat": 4,
  "nbformat_minor": 0,
  "metadata": {
    "colab": {
      "provenance": [],
      "authorship_tag": "ABX9TyOEayAuD78BSNpfRjnVKXGF",
      "include_colab_link": true
    },
    "kernelspec": {
      "name": "python3",
      "display_name": "Python 3"
    },
    "language_info": {
      "name": "python"
    }
  },
  "cells": [
    {
      "cell_type": "markdown",
      "metadata": {
        "id": "view-in-github",
        "colab_type": "text"
      },
      "source": [
        "<a href=\"https://colab.research.google.com/github/abrar0335/Abrar/blob/main/muhammad%20abrar%20Ai.ipynb\" target=\"_parent\"><img src=\"https://colab.research.google.com/assets/colab-badge.svg\" alt=\"Open In Colab\"/></a>"
      ]
    },
    {
      "cell_type": "code",
      "execution_count": 13,
      "metadata": {
        "colab": {
          "base_uri": "https://localhost:8080/"
        },
        "id": "L9_rOP3jhnO2",
        "outputId": "07d4ae41-834e-49dc-b91c-fcfff2b85b23"
      },
      "outputs": [
        {
          "output_type": "stream",
          "name": "stdout",
          "text": [
            "{'Ali': 85, 'Bilal': 90}\n"
          ]
        }
      ],
      "source": [
        "\n",
        "def add_student(student_dict, name, grade):\n",
        "    student_dict[name] = grade\n",
        "def student_grades():\n",
        "    students = {}\n",
        "    add_student(students, \"Ali\", 85)\n",
        "    add_student(students, \"Bilal\", 90)\n",
        "    print(students)\n",
        "\n",
        "if __name__ == \"__main__\":\n",
        "    student_grades()\n"
      ]
    },
    {
      "cell_type": "code",
      "source": [
        "def sum_of_values():\n",
        "    numbers = []\n",
        "    print(\"Enter 5 numbers:\")\n",
        "    for i in range(5):\n",
        "        while True:\n",
        "            try:\n",
        "                num = int(input(f\"Enter number {i + 1}: \"))\n",
        "                numbers.append(num)\n",
        "                break\n",
        "            except ValueError:\n",
        "                print(\"Invalid input! Please enter an integer.\")\n",
        "    total = sum(numbers)\n",
        "    print(f\"Sum: {total}\")\n",
        "\n",
        "if __name__ == \"__main__\":\n",
        "    sum_of_values()\n"
      ],
      "metadata": {
        "colab": {
          "base_uri": "https://localhost:8080/"
        },
        "id": "83X0rcTjkfrF",
        "outputId": "5e39ab87-e336-46ec-f9e0-a366683698eb"
      },
      "execution_count": 9,
      "outputs": [
        {
          "output_type": "stream",
          "name": "stdout",
          "text": [
            "Enter 5 numbers:\n",
            "Enter number 1: 3\n",
            "Enter number 2: 4\n",
            "Enter number 3: 5\n",
            "Enter number 4: 5\n",
            "Enter number 5: 3\n",
            "Sum: 20\n"
          ]
        }
      ]
    },
    {
      "cell_type": "code",
      "source": [
        "def sort_list(numbers):\n",
        "    return sorted(numbers)\n",
        "def sorting_example():\n",
        "    numbers = [7, 2, 9, 1, 5]\n",
        "    sorted_numbers = sort_list(numbers)\n",
        "    print(sorted_numbers)\n",
        "\n",
        "if __name__ == \"__main__\":\n",
        "    sorting_example()\n"
      ],
      "metadata": {
        "colab": {
          "base_uri": "https://localhost:8080/"
        },
        "id": "PLD5n1OHnFz5",
        "outputId": "6af1df9e-1159-4dc3-e5ff-20c04f903065"
      },
      "execution_count": 10,
      "outputs": [
        {
          "output_type": "stream",
          "name": "stdout",
          "text": [
            "[1, 2, 5, 7, 9]\n"
          ]
        }
      ]
    },
    {
      "cell_type": "code",
      "source": [
        "def tuple_example():\n",
        "    elements = (\"Hydrogen\", \"Helium\", \"Lithium\", \"Beryllium\", \"Boron\")\n",
        "    print(f\"First element: {elements[0]}\")\n",
        "    print(f\"Third element: {elements[2]}\")\n",
        "if __name__ == \"__main__\":\n",
        "    tuple_example()\n"
      ],
      "metadata": {
        "colab": {
          "base_uri": "https://localhost:8080/"
        },
        "id": "AQcJCm3-nGNS",
        "outputId": "b4097a04-2ad2-4e0c-8351-3a343ff3b4ef"
      },
      "execution_count": 11,
      "outputs": [
        {
          "output_type": "stream",
          "name": "stdout",
          "text": [
            "First element: Hydrogen\n",
            "Third element: Lithium\n"
          ]
        }
      ]
    },
    {
      "cell_type": "code",
      "source": [
        "def add_numbers(a, b):\n",
        "    return a + b\n",
        "def sum_example():\n",
        "    num1 = 5\n",
        "    num2 = 3\n",
        "    result = add_numbers(num1, num2)\n",
        "    print(f\"Sum of {num1} and {num2} is: {result}\")\n",
        "\n",
        "if __name__ == \"__main__\":\n",
        "    sum_example()\n"
      ],
      "metadata": {
        "colab": {
          "base_uri": "https://localhost:8080/"
        },
        "id": "hfb0Jc1lnGbG",
        "outputId": "c66ddce2-afeb-4d8c-e870-d29190869105"
      },
      "execution_count": 12,
      "outputs": [
        {
          "output_type": "stream",
          "name": "stdout",
          "text": [
            "Sum of 5 and 3 is: 8\n"
          ]
        }
      ]
    }
  ]
}